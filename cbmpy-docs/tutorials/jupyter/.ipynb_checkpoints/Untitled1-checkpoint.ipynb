{
 "cells": [
  {
   "cell_type": "code",
   "execution_count": 1,
   "metadata": {
    "collapsed": false
   },
   "outputs": [
    {
     "name": "stdout",
     "output_type": "stream",
     "text": [
      "\n",
      "*****\n",
      "Using CPLEX\n",
      "*****\n",
      "\n",
      "WX GUI tools available.\n",
      "\n",
      "CBMPy environment\n",
      "******************\n",
      "Revision: r562\n",
      "\n",
      "\n",
      "***********************************************************************\n",
      "* Welcome to CBMPy (0.7.11) - PySCeS Constraint Based Modelling        *\n",
      "*                http://cbmpy.sourceforge.net                         *\n",
      "* Copyright(C) Brett G. Olivier 2014 - 2016                           *\n",
      "* Dept. of Systems Bioinformatics                                     *\n",
      "* Vrije Universiteit Amsterdam, Amsterdam, The Netherlands            *\n",
      "* CBMPy is developed as part of the BeBasic MetaToolKit Project       *\n",
      "* Distributed under the GNU GPL v 3.0 licence, see                    *\n",
      "* LICENCE (supplied with this release) for details                    *\n",
      "***********************************************************************\n",
      "\n",
      "#################################################################################################\n",
      "# CBMViz - (0.1.0) - Visualization Pipeline for Metabolic Networks                              #\n",
      "# (c) Nicolas Huber, Brett G. Olivier & Bas Teusink, Vrije Universiteit Amsterdam, 2016-2017    #\n",
      "#                                                                                               #\n",
      "# CBMViz is developed as part of the BeBasic MetaToolKit Project                                #\n",
      "# Generate a structured network map using only a SBML file (Supports SBML L3V1, FBC and Groups) #\n",
      "# Graph object and can be exported as SVG, JSON, GML, new SBML with layout plugin as well       #\n",
      "# as SBGN. Graph properties are also stored in a SQLite database.                               #\n",
      "#                                                                                               #\n",
      "# Necessary  dependencies for this pipeline (on Wind64 Anaconda)                                #\n",
      "# ==============================================================                                #\n",
      "# Install packages: pip install geojson tarjan libsbgnpy tulip-python tulipgui-python           #\n",
      "# Install CBMPy using: conda install -c bgoli -c sbmlteam cbmpy                                 #\n",
      "#                                                                                               #\n",
      "# CBMViz contains code from Mimoza version X.X.X (http://url) paper doi or pubmed id            #\n",
      "#                                                                                               #\n",
      "# CBMViz is distributed under the GNU GPL v 3.0 licence, see                                    #\n",
      "# LICENCE_GPLv3.txt (supplied with this release) for details                                    #\n",
      "#################################################################################################\n"
     ]
    }
   ],
   "source": [
    "import cbmviz"
   ]
  },
  {
   "cell_type": "code",
   "execution_count": 2,
   "metadata": {
    "collapsed": true
   },
   "outputs": [],
   "source": [
    "global_ops = {\"AUTO_ALIAS\": False,  # apply aliasing to every node of the graph with a certain connectivity\n",
    "              # and option to alias biomass (result in maingraph)\n",
    "              # if auto alias is active the automatically generated layout will still be\n",
    "              # overwritten if any other layouting functions are active aswell\n",
    "              \"AUTO_ALIAS_OPTIONS\": {\"spec_split\": 6, \"reac_split\": 4},  # threshold values for species and reac\n",
    "              \"SMALL_THRSH\": 30,  # the threshold value of connections a species must have to be a small sps\n",
    "              # splitting\n",
    "\n",
    "              \"PATHWAY_LISTS\": True,  # layout annotated groups of sbml file as seperate pathways\n",
    "              \"LAYOUT_PATHWAYS\": True,  # needs PATHWAY_LISTS true, so that necessary node lists are generated\n",
    "              \"LABEL_TYPE\": \"id\",  # can either be \"id\" or \"name\"\n",
    "              \"ADD_COFACTORS\": [\"Glycolysis-Gluconeogenesis\", 'Citric Acid Cycle'],  # add nodes for small sps/cofactors after they have been\n",
    "              # deleted in path_dict\n",
    "\n",
    "              \"TRANSPORT_RADIAL\": False,  # apply Tree Radial algorithm to transport reactions in output_whole\n",
    "              \"SELECTED_PATHWAYS\": [\"Glycolysis-Gluconeogenesis\",  \"Citric Acid Cycle\", \"Transport, Outer Membrane\", 'Transport, Outer Membrane Porin'],\n",
    "              \"GRID_OUTPUT\": [\"Glycolysis-Gluconeogenesis\",  # align pathways on a grid, control position\n",
    "                              \"Citric Acid Cycle\",\n",
    "                              \"Alternate Carbon Metabolism\",\n",
    "                              \"Glyoxylate Metabolism\"],\n",
    "\n",
    "              \"EXPORT_TLP\": True,  # save generated graphs as .tlp files\n",
    "              \"EXPORT_GML\": False,  # export generated graphs as .gml files\n",
    "              \"EXPORT_SVG\": True,  # export generated graphs as .svg files\n",
    "              \"EXPORT_JSON\": False,  # export generated graphs as .json files\n",
    "              \"EXPORT_SBML\": False,  # export generated graphs as .sbml files (in layout plugin)\n",
    "              \"EXPORT_SBGN\": False,  # export generated graphs as .sbgn files\n",
    "\n",
    "              \"COLOR_FBA\": True,  # color the reaction nodes and in and outgoing edges\n",
    "              \"COLOR_FBA_COLORBLIND\": False,  # based on flux values obtained from FBA\n",
    "              \"COLOR_PATHWAYS\": False,  # pathways specific coloring\n",
    "              \"COLOR_GAPS\": True  # highlight gaps (in red), reactions that exist in both (all) models = black\n",
    "              }\n",
    "\n"
   ]
  },
  {
   "cell_type": "raw",
   "metadata": {},
   "source": [
    "cDir = os.path.dirname(os.path.abspath(os.sys.argv[0]))\n"
   ]
  }
 ],
 "metadata": {
  "anaconda-cloud": {},
  "kernelspec": {
   "display_name": "Python [conda root]",
   "language": "python",
   "name": "conda-root-py"
  },
  "language_info": {
   "codemirror_mode": {
    "name": "ipython",
    "version": 2
   },
   "file_extension": ".py",
   "mimetype": "text/x-python",
   "name": "python",
   "nbconvert_exporter": "python",
   "pygments_lexer": "ipython2",
   "version": "2.7.12"
  }
 },
 "nbformat": 4,
 "nbformat_minor": 1
}
