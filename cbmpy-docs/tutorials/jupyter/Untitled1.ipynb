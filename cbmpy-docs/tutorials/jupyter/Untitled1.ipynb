{
 "cells": [
  {
   "cell_type": "code",
   "execution_count": 9,
   "metadata": {
    "collapsed": false
   },
   "outputs": [],
   "source": [
    "import os\n",
    "cDir = os.path.dirname(os.path.abspath(os.sys.argv[0]))\n",
    "import cbmviz"
   ]
  },
  {
   "cell_type": "code",
   "execution_count": 10,
   "metadata": {
    "collapsed": true
   },
   "outputs": [],
   "source": [
    "global_ops = {\"AUTO_ALIAS\": False,  # apply aliasing to every node of the graph with a certain connectivity\n",
    "              # and option to alias biomass (result in maingraph)\n",
    "              # if auto alias is active the automatically generated layout will still be\n",
    "              # overwritten if any other layouting functions are active aswell\n",
    "              \"AUTO_ALIAS_OPTIONS\": {\"spec_split\": 6, \"reac_split\": 4},  # threshold values for species and reac\n",
    "              \"SMALL_THRSH\": 30,  # the threshold value of connections a species must have to be a small sps\n",
    "              # splitting\n",
    "\n",
    "              \"PATHWAY_LISTS\": True,  # layout annotated groups of sbml file as seperate pathways\n",
    "              \"LAYOUT_PATHWAYS\": True,  # needs PATHWAY_LISTS true, so that necessary node lists are generated\n",
    "              \"LABEL_TYPE\": \"id\",  # can either be \"id\" or \"name\"\n",
    "              \"ADD_COFACTORS\": [\"Glycolysis-Gluconeogenesis\", 'Citric Acid Cycle'],  # add nodes for small sps/cofactors after they have been\n",
    "              # deleted in path_dict\n",
    "\n",
    "              \"TRANSPORT_RADIAL\": False,  # apply Tree Radial algorithm to transport reactions in output_whole\n",
    "              \"SELECTED_PATHWAYS\": [\"Glycolysis-Gluconeogenesis\",  \"Citric Acid Cycle\", \"Transport, Outer Membrane\", 'Transport, Outer Membrane Porin'],\n",
    "              \"GRID_OUTPUT\": [\"Glycolysis-Gluconeogenesis\",  # align pathways on a grid, control position\n",
    "                              \"Citric Acid Cycle\",\n",
    "                              \"Alternate Carbon Metabolism\",\n",
    "                              \"Glyoxylate Metabolism\"],\n",
    "\n",
    "              \"EXPORT_TLP\": True,  # save generated graphs as .tlp files\n",
    "              \"EXPORT_GML\": False,  # export generated graphs as .gml files\n",
    "              \"EXPORT_SVG\": True,  # export generated graphs as .svg files\n",
    "              \"EXPORT_JSON\": False,  # export generated graphs as .json files\n",
    "              \"EXPORT_SBML\": False,  # export generated graphs as .sbml files (in layout plugin)\n",
    "              \"EXPORT_SBGN\": False,  # export generated graphs as .sbgn files\n",
    "\n",
    "              \"COLOR_FBA\": True,  # color the reaction nodes and in and outgoing edges\n",
    "              \"COLOR_FBA_COLORBLIND\": False,  # based on flux values obtained from FBA\n",
    "              \"COLOR_PATHWAYS\": False,  # pathways specific coloring\n",
    "              \"COLOR_GAPS\": True  # highlight gaps (in red), reactions that exist in both (all) models = black\n",
    "              }\n",
    "\n"
   ]
  },
  {
   "cell_type": "raw",
   "metadata": {},
   "source": [
    "\n"
   ]
  },
  {
   "cell_type": "code",
   "execution_count": 11,
   "metadata": {
    "collapsed": false
   },
   "outputs": [],
   "source": [
    "sbml = os.path.join(cDir, \"TestModels\", \"willi\", \"iAF1260_max_ac.xml\") # E. coli about 2000+ reactions"
   ]
  },
  {
   "cell_type": "code",
   "execution_count": 20,
   "metadata": {
    "collapsed": true
   },
   "outputs": [],
   "source": [
    "graph, graph_props = cbmviz.createInitialGraph(\"initialGraph\")"
   ]
  },
  {
   "cell_type": "code",
   "execution_count": 16,
   "metadata": {
    "collapsed": false
   },
   "outputs": [
    {
     "ename": "AssertionError",
     "evalue": "\n\nInvalid SBML file",
     "output_type": "error",
     "traceback": [
      "\u001b[0;31m---------------------------------------------------------------------------\u001b[0m",
      "\u001b[0;31mAssertionError\u001b[0m                            Traceback (most recent call last)",
      "\u001b[0;32m<ipython-input-16-22b5721d2ce6>\u001b[0m in \u001b[0;36m<module>\u001b[0;34m()\u001b[0m\n\u001b[0;32m----> 1\u001b[0;31m \u001b[0mcmod\u001b[0m\u001b[1;33m,\u001b[0m \u001b[0mfba_results\u001b[0m\u001b[1;33m,\u001b[0m \u001b[0mpath_dict\u001b[0m\u001b[1;33m,\u001b[0m \u001b[0mCOLORS\u001b[0m\u001b[1;33m,\u001b[0m \u001b[0mub_sps\u001b[0m\u001b[1;33m,\u001b[0m \u001b[0mn2lo\u001b[0m\u001b[1;33m,\u001b[0m \u001b[0me2lo\u001b[0m\u001b[1;33m,\u001b[0m \u001b[0mgroups_sbml\u001b[0m\u001b[1;33m,\u001b[0m \u001b[0mobj_re_nodes\u001b[0m\u001b[1;33m,\u001b[0m \u001b[0mgraph_registry\u001b[0m\u001b[1;33m,\u001b[0m \u001b[0mcDir\u001b[0m\u001b[1;33m,\u001b[0m \u001b[0moutput_path\u001b[0m \u001b[1;33m=\u001b[0m                                                                \u001b[0mcbmviz\u001b[0m\u001b[1;33m.\u001b[0m\u001b[0mlayoutModel\u001b[0m\u001b[1;33m(\u001b[0m\u001b[0mglobal_ops\u001b[0m\u001b[1;33m,\u001b[0m \u001b[0msbml\u001b[0m\u001b[1;33m,\u001b[0m \u001b[0mgraph\u001b[0m\u001b[1;33m,\u001b[0m \u001b[0mgraph_props\u001b[0m\u001b[1;33m)\u001b[0m\u001b[1;33m\u001b[0m\u001b[0m\n\u001b[0m",
      "\u001b[0;32mC:\\Anaconda\\lib\\site-packages\\cbmviz\\MetaViz.pyc\u001b[0m in \u001b[0;36mlayoutModel\u001b[0;34m(global_ops, sbml, graph, graph_props)\u001b[0m\n\u001b[1;32m     60\u001b[0m     \u001b[0mcDir\u001b[0m \u001b[1;33m=\u001b[0m \u001b[0mos\u001b[0m\u001b[1;33m.\u001b[0m\u001b[0mpath\u001b[0m\u001b[1;33m.\u001b[0m\u001b[0mdirname\u001b[0m\u001b[1;33m(\u001b[0m\u001b[0mos\u001b[0m\u001b[1;33m.\u001b[0m\u001b[0mpath\u001b[0m\u001b[1;33m.\u001b[0m\u001b[0mabspath\u001b[0m\u001b[1;33m(\u001b[0m\u001b[0mos\u001b[0m\u001b[1;33m.\u001b[0m\u001b[0msys\u001b[0m\u001b[1;33m.\u001b[0m\u001b[0margv\u001b[0m\u001b[1;33m[\u001b[0m\u001b[1;36m0\u001b[0m\u001b[1;33m]\u001b[0m\u001b[1;33m)\u001b[0m\u001b[1;33m)\u001b[0m\u001b[1;33m\u001b[0m\u001b[0m\n\u001b[1;32m     61\u001b[0m     \u001b[1;31m# create CBMPY model (separate data structure to SBML file)\u001b[0m\u001b[1;33m\u001b[0m\u001b[1;33m\u001b[0m\u001b[0m\n\u001b[0;32m---> 62\u001b[0;31m     \u001b[0mcmod\u001b[0m\u001b[1;33m,\u001b[0m \u001b[0mstM\u001b[0m\u001b[1;33m,\u001b[0m \u001b[0mobjective_re_id\u001b[0m \u001b[1;33m=\u001b[0m \u001b[0mcreateCBMPYModel\u001b[0m\u001b[1;33m(\u001b[0m\u001b[0msbml\u001b[0m\u001b[1;33m)\u001b[0m\u001b[1;33m\u001b[0m\u001b[0m\n\u001b[0m\u001b[1;32m     63\u001b[0m     \u001b[1;31m# create output folder\u001b[0m\u001b[1;33m\u001b[0m\u001b[1;33m\u001b[0m\u001b[0m\n\u001b[1;32m     64\u001b[0m     \u001b[0moutput_path\u001b[0m \u001b[1;33m=\u001b[0m \u001b[0mos\u001b[0m\u001b[1;33m.\u001b[0m\u001b[0mpath\u001b[0m\u001b[1;33m.\u001b[0m\u001b[0mjoin\u001b[0m\u001b[1;33m(\u001b[0m\u001b[0mcDir\u001b[0m\u001b[1;33m,\u001b[0m \u001b[1;34m'{}_Output'\u001b[0m\u001b[1;33m.\u001b[0m\u001b[0mformat\u001b[0m\u001b[1;33m(\u001b[0m\u001b[0mcmod\u001b[0m\u001b[1;33m.\u001b[0m\u001b[0mgetId\u001b[0m\u001b[1;33m(\u001b[0m\u001b[1;33m)\u001b[0m\u001b[1;33m)\u001b[0m\u001b[1;33m)\u001b[0m\u001b[1;33m\u001b[0m\u001b[0m\n",
      "\u001b[0;32mC:\\Anaconda\\lib\\site-packages\\cbmviz\\MetaViz.pyc\u001b[0m in \u001b[0;36mcreateCBMPYModel\u001b[0;34m(sbml_path, change_flux_bounds)\u001b[0m\n\u001b[1;32m    379\u001b[0m     \"\"\"\n\u001b[1;32m    380\u001b[0m     \u001b[1;31m# create CBMPy model\u001b[0m\u001b[1;33m\u001b[0m\u001b[1;33m\u001b[0m\u001b[0m\n\u001b[0;32m--> 381\u001b[0;31m     \u001b[0mcmod\u001b[0m \u001b[1;33m=\u001b[0m \u001b[0mcbmpy\u001b[0m\u001b[1;33m.\u001b[0m\u001b[0mreadSBML3FBC\u001b[0m\u001b[1;33m(\u001b[0m\u001b[0msbml_path\u001b[0m\u001b[1;33m)\u001b[0m\u001b[1;33m\u001b[0m\u001b[0m\n\u001b[0m\u001b[1;32m    382\u001b[0m     \u001b[1;31m# change flux bounds values to not mess with the coloring later on\u001b[0m\u001b[1;33m\u001b[0m\u001b[1;33m\u001b[0m\u001b[0m\n\u001b[1;32m    383\u001b[0m     \u001b[1;32mif\u001b[0m \u001b[0mchange_flux_bounds\u001b[0m\u001b[1;33m:\u001b[0m\u001b[1;33m\u001b[0m\u001b[0m\n",
      "\u001b[0;32mC:\\Anaconda\\lib\\site-packages\\cbmpy\\CBRead.pyc\u001b[0m in \u001b[0;36mreadSBML3FBC\u001b[0;34m(fname, work_dir, return_sbml_model, xoptions, scan_notes_gpr)\u001b[0m\n\u001b[1;32m    117\u001b[0m         \u001b[0mfname\u001b[0m \u001b[1;33m=\u001b[0m \u001b[0mos\u001b[0m\u001b[1;33m.\u001b[0m\u001b[0mpath\u001b[0m\u001b[1;33m.\u001b[0m\u001b[0mjoin\u001b[0m\u001b[1;33m(\u001b[0m\u001b[0m__example_model_path__\u001b[0m\u001b[1;33m,\u001b[0m \u001b[0mfname\u001b[0m\u001b[1;33m)\u001b[0m\u001b[1;33m\u001b[0m\u001b[0m\n\u001b[1;32m    118\u001b[0m \u001b[1;33m\u001b[0m\u001b[0m\n\u001b[0;32m--> 119\u001b[0;31m     \u001b[0mxmod\u001b[0m \u001b[1;33m=\u001b[0m \u001b[0mCBXML\u001b[0m\u001b[1;33m.\u001b[0m\u001b[0msbml_readSBML3FBC\u001b[0m\u001b[1;33m(\u001b[0m\u001b[0mfname\u001b[0m\u001b[1;33m,\u001b[0m \u001b[0mwork_dir\u001b[0m\u001b[1;33m,\u001b[0m \u001b[0mreturn_sbml_model\u001b[0m\u001b[1;33m,\u001b[0m \u001b[0mxoptions\u001b[0m\u001b[1;33m)\u001b[0m\u001b[1;33m\u001b[0m\u001b[0m\n\u001b[0m\u001b[1;32m    120\u001b[0m     \u001b[1;32mif\u001b[0m \u001b[0mscan_notes_gpr\u001b[0m \u001b[1;32mand\u001b[0m \u001b[0mlen\u001b[0m\u001b[1;33m(\u001b[0m\u001b[0mxmod\u001b[0m\u001b[1;33m.\u001b[0m\u001b[0mgetGeneIds\u001b[0m\u001b[1;33m(\u001b[0m\u001b[1;33m)\u001b[0m\u001b[1;33m)\u001b[0m \u001b[1;33m==\u001b[0m \u001b[1;36m0\u001b[0m\u001b[1;33m:\u001b[0m\u001b[1;33m\u001b[0m\u001b[0m\n\u001b[1;32m    121\u001b[0m         \u001b[1;32mprint\u001b[0m\u001b[1;33m(\u001b[0m\u001b[1;34m'INFO: no standard gene encoding detected, attempting to load from annotations.'\u001b[0m\u001b[1;33m)\u001b[0m\u001b[1;33m\u001b[0m\u001b[0m\n",
      "\u001b[0;32mC:\\Anaconda\\lib\\site-packages\\cbmpy\\CBXML.pyc\u001b[0m in \u001b[0;36msbml_readSBML3FBC\u001b[0;34m(fname, work_dir, return_sbml_model, xoptions)\u001b[0m\n\u001b[1;32m   3084\u001b[0m \u001b[1;33m\u001b[0m\u001b[0m\n\u001b[1;32m   3085\u001b[0m     \u001b[0mM\u001b[0m \u001b[1;33m=\u001b[0m \u001b[0mD\u001b[0m\u001b[1;33m.\u001b[0m\u001b[0mgetModel\u001b[0m\u001b[1;33m(\u001b[0m\u001b[1;33m)\u001b[0m\u001b[1;33m\u001b[0m\u001b[0m\n\u001b[0;32m-> 3086\u001b[0;31m     \u001b[1;32massert\u001b[0m \u001b[0mM\u001b[0m \u001b[1;33m!=\u001b[0m \u001b[0mNone\u001b[0m\u001b[1;33m,\u001b[0m \u001b[1;34m\"\\n\\nInvalid SBML file\"\u001b[0m\u001b[1;33m\u001b[0m\u001b[0m\n\u001b[0m\u001b[1;32m   3087\u001b[0m     \u001b[1;32massert\u001b[0m \u001b[0mM\u001b[0m\u001b[1;33m.\u001b[0m\u001b[0mgetLevel\u001b[0m\u001b[1;33m(\u001b[0m\u001b[1;33m)\u001b[0m \u001b[1;33m>=\u001b[0m\u001b[1;36m3\u001b[0m \u001b[1;32mand\u001b[0m \u001b[0mM\u001b[0m\u001b[1;33m.\u001b[0m\u001b[0mgetVersion\u001b[0m\u001b[1;33m(\u001b[0m\u001b[1;33m)\u001b[0m \u001b[1;33m>=\u001b[0m \u001b[1;36m1\u001b[0m\u001b[1;33m,\u001b[0m \u001b[1;34m\"\\nAn SBML L3V1 or greater model is required\"\u001b[0m\u001b[1;33m\u001b[0m\u001b[0m\n\u001b[1;32m   3088\u001b[0m \u001b[1;33m\u001b[0m\u001b[0m\n",
      "\u001b[0;31mAssertionError\u001b[0m: \n\nInvalid SBML file"
     ]
    }
   ],
   "source": [
    "cmod, fba_results, path_dict, COLORS, ub_sps, n2lo, e2lo, groups_sbml, obj_re_nodes, graph_registry, cDir, output_path =\\\n",
    "                                                                cbmviz.layoutModel(global_ops, sbml, graph, graph_props)"
   ]
  }
 ],
 "metadata": {
  "anaconda-cloud": {},
  "kernelspec": {
   "display_name": "Python [conda root]",
   "language": "python",
   "name": "conda-root-py"
  },
  "language_info": {
   "codemirror_mode": {
    "name": "ipython",
    "version": 2
   },
   "file_extension": ".py",
   "mimetype": "text/x-python",
   "name": "python",
   "nbconvert_exporter": "python",
   "pygments_lexer": "ipython2",
   "version": "2.7.12"
  }
 },
 "nbformat": 4,
 "nbformat_minor": 1
}
